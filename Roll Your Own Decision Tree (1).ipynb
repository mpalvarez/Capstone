{
 "cells": [
  {
   "cell_type": "markdown",
   "metadata": {},
   "source": [
    "### Entropy\n"
   ]
  },
  {
   "cell_type": "markdown",
   "metadata": {},
   "source": [
    "Intuitively, we can think of **entropy** as the measure of disorder in a system. "
   ]
  },
  {
   "cell_type": "markdown",
   "metadata": {},
   "source": [
    "This set, $S$, for example, is very disordered:\n",
    "\n",
    "<img src=\"https://www.evernote.com/l/AAEZbuSslJRCwKxfZaSIBJaIZqcQ-mTe9RQB/image.png\" width=400px>\n"
   ]
  },
  {
   "cell_type": "markdown",
   "metadata": {},
   "source": [
    "Let us consider the elements of $S$ that have a black border."
   ]
  },
  {
   "cell_type": "code",
   "execution_count": 1,
   "metadata": {},
   "outputs": [],
   "source": [
    "%run items.py"
   ]
  },
  {
   "cell_type": "code",
   "execution_count": 2,
   "metadata": {},
   "outputs": [
    {
     "data": {
      "text/html": [
       "<div>\n",
       "<table border=\"1\" class=\"dataframe\">\n",
       "  <thead>\n",
       "    <tr style=\"text-align: right;\">\n",
       "      <th></th>\n",
       "      <th>border</th>\n",
       "      <th>color</th>\n",
       "      <th>form</th>\n",
       "      <th>letter</th>\n",
       "    </tr>\n",
       "  </thead>\n",
       "  <tbody>\n",
       "    <tr>\n",
       "      <th>0</th>\n",
       "      <td>False</td>\n",
       "      <td>blue</td>\n",
       "      <td>square</td>\n",
       "      <td>E</td>\n",
       "    </tr>\n",
       "    <tr>\n",
       "      <th>1</th>\n",
       "      <td>True</td>\n",
       "      <td>red</td>\n",
       "      <td>circle</td>\n",
       "      <td>A</td>\n",
       "    </tr>\n",
       "    <tr>\n",
       "      <th>2</th>\n",
       "      <td>False</td>\n",
       "      <td>green</td>\n",
       "      <td>circle</td>\n",
       "      <td>B</td>\n",
       "    </tr>\n",
       "    <tr>\n",
       "      <th>3</th>\n",
       "      <td>True</td>\n",
       "      <td>red</td>\n",
       "      <td>diamond</td>\n",
       "      <td>E</td>\n",
       "    </tr>\n",
       "    <tr>\n",
       "      <th>4</th>\n",
       "      <td>True</td>\n",
       "      <td>red</td>\n",
       "      <td>diamond</td>\n",
       "      <td>E</td>\n",
       "    </tr>\n",
       "    <tr>\n",
       "      <th>5</th>\n",
       "      <td>False</td>\n",
       "      <td>blue</td>\n",
       "      <td>diamond</td>\n",
       "      <td>C</td>\n",
       "    </tr>\n",
       "    <tr>\n",
       "      <th>6</th>\n",
       "      <td>False</td>\n",
       "      <td>green</td>\n",
       "      <td>square</td>\n",
       "      <td>A</td>\n",
       "    </tr>\n",
       "    <tr>\n",
       "      <th>7</th>\n",
       "      <td>True</td>\n",
       "      <td>green</td>\n",
       "      <td>diamond</td>\n",
       "      <td>D</td>\n",
       "    </tr>\n",
       "    <tr>\n",
       "      <th>8</th>\n",
       "      <td>True</td>\n",
       "      <td>silver</td>\n",
       "      <td>star</td>\n",
       "      <td>C</td>\n",
       "    </tr>\n",
       "    <tr>\n",
       "      <th>9</th>\n",
       "      <td>False</td>\n",
       "      <td>silver</td>\n",
       "      <td>square</td>\n",
       "      <td>C</td>\n",
       "    </tr>\n",
       "    <tr>\n",
       "      <th>10</th>\n",
       "      <td>False</td>\n",
       "      <td>green</td>\n",
       "      <td>circle</td>\n",
       "      <td>B</td>\n",
       "    </tr>\n",
       "    <tr>\n",
       "      <th>11</th>\n",
       "      <td>True</td>\n",
       "      <td>red</td>\n",
       "      <td>circle</td>\n",
       "      <td>A</td>\n",
       "    </tr>\n",
       "    <tr>\n",
       "      <th>12</th>\n",
       "      <td>False</td>\n",
       "      <td>green</td>\n",
       "      <td>square</td>\n",
       "      <td>A</td>\n",
       "    </tr>\n",
       "    <tr>\n",
       "      <th>13</th>\n",
       "      <td>True</td>\n",
       "      <td>green</td>\n",
       "      <td>circle</td>\n",
       "      <td>D</td>\n",
       "    </tr>\n",
       "    <tr>\n",
       "      <th>14</th>\n",
       "      <td>True</td>\n",
       "      <td>blue</td>\n",
       "      <td>star</td>\n",
       "      <td>B</td>\n",
       "    </tr>\n",
       "    <tr>\n",
       "      <th>15</th>\n",
       "      <td>True</td>\n",
       "      <td>blue</td>\n",
       "      <td>circle</td>\n",
       "      <td>B</td>\n",
       "    </tr>\n",
       "    <tr>\n",
       "      <th>16</th>\n",
       "      <td>False</td>\n",
       "      <td>blue</td>\n",
       "      <td>square</td>\n",
       "      <td>E</td>\n",
       "    </tr>\n",
       "    <tr>\n",
       "      <th>17</th>\n",
       "      <td>True</td>\n",
       "      <td>red</td>\n",
       "      <td>diamond</td>\n",
       "      <td>E</td>\n",
       "    </tr>\n",
       "    <tr>\n",
       "      <th>18</th>\n",
       "      <td>True</td>\n",
       "      <td>blue</td>\n",
       "      <td>star</td>\n",
       "      <td>B</td>\n",
       "    </tr>\n",
       "    <tr>\n",
       "      <th>19</th>\n",
       "      <td>False</td>\n",
       "      <td>purple</td>\n",
       "      <td>square</td>\n",
       "      <td>C</td>\n",
       "    </tr>\n",
       "    <tr>\n",
       "      <th>20</th>\n",
       "      <td>False</td>\n",
       "      <td>silver</td>\n",
       "      <td>square</td>\n",
       "      <td>C</td>\n",
       "    </tr>\n",
       "  </tbody>\n",
       "</table>\n",
       "</div>"
      ],
      "text/plain": [
       "   border   color     form letter\n",
       "0   False    blue   square      E\n",
       "1    True     red   circle      A\n",
       "2   False   green   circle      B\n",
       "3    True     red  diamond      E\n",
       "4    True     red  diamond      E\n",
       "5   False    blue  diamond      C\n",
       "6   False   green   square      A\n",
       "7    True   green  diamond      D\n",
       "8    True  silver     star      C\n",
       "9   False  silver   square      C\n",
       "10  False   green   circle      B\n",
       "11   True     red   circle      A\n",
       "12  False   green   square      A\n",
       "13   True   green   circle      D\n",
       "14   True    blue     star      B\n",
       "15   True    blue   circle      B\n",
       "16  False    blue   square      E\n",
       "17   True     red  diamond      E\n",
       "18   True    blue     star      B\n",
       "19  False  purple   square      C\n",
       "20  False  silver   square      C"
      ]
     },
     "execution_count": 2,
     "metadata": {},
     "output_type": "execute_result"
    }
   ],
   "source": [
    "import numpy as np\n",
    "import pandas as pd\n",
    "\n",
    "items_df = pd.DataFrame(items)\n",
    "items_df"
   ]
  },
  {
   "cell_type": "markdown",
   "metadata": {},
   "source": [
    "## Information Entropy\n",
    "\n",
    "\n",
    "We can measure the disorder in $S$ relative to the any attribute of an element using the Shannon Information **Entropy**\n",
    "\n",
    "$$H(S) = -p_1\\log_2p_1 + \\dots + -p_n\\log_2p_n$$\n",
    "\n",
    "\n"
   ]
  },
  {
   "cell_type": "markdown",
   "metadata": {},
   "source": [
    "Here, each $p_i$ is a measure of the proportion of the set represented by each class for a given attribute. If we are looking at the color of our shapes, this would be five classes: "
   ]
  },
  {
   "cell_type": "code",
   "execution_count": 3,
   "metadata": {},
   "outputs": [
    {
     "data": {
      "text/plain": [
       "array(['blue', 'red', 'green', 'silver', 'purple'], dtype=object)"
      ]
     },
     "execution_count": 3,
     "metadata": {},
     "output_type": "execute_result"
    }
   ],
   "source": [
    "items_df.color.unique()"
   ]
  },
  {
   "cell_type": "markdown",
   "metadata": {},
   "source": [
    "### Calculate the Proportions"
   ]
  },
  {
   "cell_type": "code",
   "execution_count": 4,
   "metadata": {},
   "outputs": [],
   "source": [
    "total_count = items_df.color.count()"
   ]
  },
  {
   "cell_type": "code",
   "execution_count": 6,
   "metadata": {},
   "outputs": [],
   "source": [
    "p_red = (items_df.color == 'red').sum()/total_count\n",
    "p_blue = (items_df.color == 'blue').sum()/total_count\n",
    "p_green = (items_df.color == 'green').sum()/total_count\n",
    "p_silver = (items_df.color == 'silver').sum()/total_count\n",
    "p_purple = (items_df.color == 'purple').sum()/total_count\n",
    "\n",
    "S_proportions = [p_red, p_blue, p_green, p_silver, p_purple]"
   ]
  },
  {
   "cell_type": "code",
   "execution_count": 7,
   "metadata": {},
   "outputs": [
    {
     "data": {
      "text/plain": [
       "[0.23809523809523808,\n",
       " 0.2857142857142857,\n",
       " 0.2857142857142857,\n",
       " 0.14285714285714285,\n",
       " 0.047619047619047616]"
      ]
     },
     "execution_count": 7,
     "metadata": {},
     "output_type": "execute_result"
    }
   ],
   "source": [
    "S_proportions"
   ]
  },
  {
   "cell_type": "code",
   "execution_count": 8,
   "metadata": {},
   "outputs": [
    {
     "data": {
      "text/plain": [
       "1.0"
      ]
     },
     "execution_count": 8,
     "metadata": {},
     "output_type": "execute_result"
    }
   ],
   "source": [
    "sum(S_proportions)"
   ]
  },
  {
   "cell_type": "markdown",
   "metadata": {},
   "source": [
    "$$H(S) = -p_1\\log_2p_1 + \\dots + -p_n\\log_2p_n$$"
   ]
  },
  {
   "cell_type": "markdown",
   "metadata": {},
   "source": [
    "### $\\log_2$\n",
    "\n",
    "    np.log2()\n",
    "\n",
    "    Base-2 logarithm of `x`."
   ]
  },
  {
   "cell_type": "code",
   "execution_count": 10,
   "metadata": {},
   "outputs": [
    {
     "data": {
      "text/plain": [
       "2.1359327568142765"
      ]
     },
     "execution_count": 10,
     "metadata": {},
     "output_type": "execute_result"
    }
   ],
   "source": [
    "-p_red*np.log2(p_red) \\\n",
    "    -p_blue*np.log2(p_blue) \\\n",
    "    -p_green*np.log2(p_green) \\\n",
    "    -p_silver*np.log2(p_silver) \\\n",
    "    -p_purple*np.log2(p_purple)"
   ]
  },
  {
   "cell_type": "code",
   "execution_count": 15,
   "metadata": {},
   "outputs": [],
   "source": [
    "def entropy(proportions):\n",
    "    H_i_list = list()\n",
    "    for proportion in proportions:\n",
    "        H_i_list.append(-proportion*np.log2(proportion))\n",
    "    return sum(H_i_list)"
   ]
  },
  {
   "cell_type": "code",
   "execution_count": 21,
   "metadata": {},
   "outputs": [],
   "source": [
    "def entropy_np(proportions):\n",
    "    proportions = np.array(proportions)\n",
    "    log_2_proportions = np.log2(proportions)\n",
    "    return -proportions.dot(log_2_proportions)"
   ]
  },
  {
   "cell_type": "code",
   "execution_count": 22,
   "metadata": {},
   "outputs": [
    {
     "data": {
      "text/plain": [
       "(2.1359327568142765, 2.1359327568142765)"
      ]
     },
     "execution_count": 22,
     "metadata": {},
     "output_type": "execute_result"
    }
   ],
   "source": [
    "entropy(S_proportions), entropy_np(S_proportions)"
   ]
  },
  {
   "cell_type": "markdown",
   "metadata": {},
   "source": [
    "We can use Python to calculate the entropy"
   ]
  },
  {
   "cell_type": "markdown",
   "metadata": {},
   "source": [
    "### Measure The Entropy of the color of $S$ "
   ]
  },
  {
   "cell_type": "markdown",
   "metadata": {},
   "source": [
    "## To Do\n",
    "\n",
    "Write a method that calculates the class proportions for a given dataframe and feature.\n"
   ]
  },
  {
   "cell_type": "code",
   "execution_count": 31,
   "metadata": {},
   "outputs": [
    {
     "data": {
      "text/plain": [
       "green     0.285714\n",
       "blue      0.285714\n",
       "red       0.238095\n",
       "silver    0.142857\n",
       "purple    0.047619\n",
       "Name: color, dtype: float64"
      ]
     },
     "execution_count": 31,
     "metadata": {},
     "output_type": "execute_result"
    }
   ],
   "source": [
    "items_df['color'].value_counts()/21"
   ]
  },
  {
   "cell_type": "code",
   "execution_count": 32,
   "metadata": {},
   "outputs": [],
   "source": [
    "def class_proportions(dataframe, feature):\n",
    "    if type(feature) is not str:\n",
    "        raise TypeError\n",
    "        \n",
    "    if feature not in dataframe.columns:\n",
    "        raise AttributeError\n",
    "    \n",
    "    total_count = dataframe[feature].count()\n",
    "    class_counts = dataframe[feature].value_counts()\n",
    "    \n",
    "    return class_counts/total_count"
   ]
  },
  {
   "cell_type": "markdown",
   "metadata": {},
   "source": [
    "Use this method to calculate the Entropy with respect to each attribute of $S$"
   ]
  },
  {
   "cell_type": "code",
   "execution_count": 33,
   "metadata": {},
   "outputs": [],
   "source": [
    "color_proportions = class_proportions(items_df, 'color')\n",
    "form_proporations = class_proportions(items_df, 'form')\n",
    "letter_proportions = class_proportions(items_df, 'letter')\n",
    "border_proportions = class_proportions(items_df, 'border')"
   ]
  },
  {
   "cell_type": "code",
   "execution_count": 36,
   "metadata": {},
   "outputs": [
    {
     "data": {
      "text/plain": [
       "2.1359327568142765"
      ]
     },
     "metadata": {},
     "output_type": "display_data"
    },
    {
     "data": {
      "text/plain": [
       "2.1359327568142765"
      ]
     },
     "metadata": {},
     "output_type": "display_data"
    },
    {
     "data": {
      "text/plain": [
       "1.938708497286834"
      ]
     },
     "metadata": {},
     "output_type": "display_data"
    },
    {
     "data": {
      "text/plain": [
       "2.2576068788115968"
      ]
     },
     "metadata": {},
     "output_type": "display_data"
    },
    {
     "data": {
      "text/plain": [
       "0.99836367259381298"
      ]
     },
     "metadata": {},
     "output_type": "display_data"
    }
   ],
   "source": [
    "from IPython.display import display\n",
    "\n",
    "display(entropy(color_proportions), entropy(S_proportions))\n",
    "display(entropy(form_proporations))\n",
    "display(entropy(letter_proportions))\n",
    "display(entropy(border_proportions))"
   ]
  },
  {
   "cell_type": "code",
   "execution_count": 37,
   "metadata": {},
   "outputs": [
    {
     "data": {
      "text/plain": [
       "0.99836367259381298"
      ]
     },
     "execution_count": 37,
     "metadata": {},
     "output_type": "execute_result"
    }
   ],
   "source": [
    "entropy(class_proportions(items_df, 'border'))"
   ]
  },
  {
   "cell_type": "markdown",
   "metadata": {},
   "source": [
    "## The Decision Tree"
   ]
  },
  {
   "cell_type": "markdown",
   "metadata": {},
   "source": [
    "Decision Trees are supervised learning models typically split into classification trees and regression trees. For the rest of this lesson, we will focus on classification trees. \n",
    "\n",
    "We will work through the ID3 algorithm for learning a decision tree from a set of labeled data. "
   ]
  },
  {
   "cell_type": "markdown",
   "metadata": {},
   "source": [
    "#### Labeled Data\n",
    "\n",
    "For our purposes, let us assume that the feature `border` is our label. We will be seeking a decision tree that makes splits in order to develop a model for identifying which items will have a border. "
   ]
  },
  {
   "cell_type": "code",
   "execution_count": 38,
   "metadata": {},
   "outputs": [],
   "source": [
    "features = items_df.drop('border', axis=1)\n",
    "target = items_df['border']"
   ]
  },
  {
   "cell_type": "markdown",
   "metadata": {},
   "source": [
    "### Adapt `class_proportions` to take a `target`"
   ]
  },
  {
   "cell_type": "code",
   "execution_count": 39,
   "metadata": {},
   "outputs": [],
   "source": [
    "def class_proportions(target):\n",
    "    \n",
    "    total_count = target.count()\n",
    "    class_counts = target.value_counts()\n",
    "    \n",
    "    return class_counts/total_count"
   ]
  },
  {
   "cell_type": "code",
   "execution_count": 42,
   "metadata": {},
   "outputs": [
    {
     "data": {
      "text/plain": [
       "0.99836367259381298"
      ]
     },
     "execution_count": 42,
     "metadata": {},
     "output_type": "execute_result"
    }
   ],
   "source": [
    "class_proportions(target)\n",
    "entropy(class_proportions(target))"
   ]
  },
  {
   "cell_type": "code",
   "execution_count": 41,
   "metadata": {},
   "outputs": [
    {
     "data": {
      "text/plain": [
       "True     0.52381\n",
       "False    0.47619\n",
       "Name: border, dtype: float64"
      ]
     },
     "metadata": {},
     "output_type": "display_data"
    },
    {
     "data": {
      "text/plain": [
       "0.99836367259381298"
      ]
     },
     "metadata": {},
     "output_type": "display_data"
    }
   ],
   "source": [
    "display(class_proportions(target))\n",
    "display(entropy(class_proportions(target)))"
   ]
  },
  {
   "cell_type": "markdown",
   "metadata": {},
   "source": [
    "### Three Partitioning Schemes\n",
    "\n",
    "We can start by separating the elements based upon their attributes. Here are three different ways to do that:\n"
   ]
  },
  {
   "cell_type": "markdown",
   "metadata": {},
   "source": [
    "![](https://www.evernote.com/l/AAFjiCSRo6xAeYC-RZ_9sy8ek0Aa69CXBDgB/image.png)"
   ]
  },
  {
   "cell_type": "markdown",
   "metadata": {},
   "source": [
    "### Identify the Best Split\n",
    "\n",
    "In order to proceed, we will need to identify which of these ways of separating is best? We can use the measure of entropy to do this!\n"
   ]
  },
  {
   "cell_type": "markdown",
   "metadata": {},
   "source": [
    "#### Split by Shape"
   ]
  },
  {
   "cell_type": "code",
   "execution_count": 43,
   "metadata": {},
   "outputs": [
    {
     "data": {
      "text/html": [
       "<div>\n",
       "<table border=\"1\" class=\"dataframe\">\n",
       "  <thead>\n",
       "    <tr style=\"text-align: right;\">\n",
       "      <th></th>\n",
       "      <th>color</th>\n",
       "      <th>form</th>\n",
       "      <th>letter</th>\n",
       "    </tr>\n",
       "  </thead>\n",
       "  <tbody>\n",
       "    <tr>\n",
       "      <th>0</th>\n",
       "      <td>blue</td>\n",
       "      <td>square</td>\n",
       "      <td>E</td>\n",
       "    </tr>\n",
       "    <tr>\n",
       "      <th>6</th>\n",
       "      <td>green</td>\n",
       "      <td>square</td>\n",
       "      <td>A</td>\n",
       "    </tr>\n",
       "    <tr>\n",
       "      <th>9</th>\n",
       "      <td>silver</td>\n",
       "      <td>square</td>\n",
       "      <td>C</td>\n",
       "    </tr>\n",
       "    <tr>\n",
       "      <th>12</th>\n",
       "      <td>green</td>\n",
       "      <td>square</td>\n",
       "      <td>A</td>\n",
       "    </tr>\n",
       "    <tr>\n",
       "      <th>16</th>\n",
       "      <td>blue</td>\n",
       "      <td>square</td>\n",
       "      <td>E</td>\n",
       "    </tr>\n",
       "    <tr>\n",
       "      <th>19</th>\n",
       "      <td>purple</td>\n",
       "      <td>square</td>\n",
       "      <td>C</td>\n",
       "    </tr>\n",
       "    <tr>\n",
       "      <th>20</th>\n",
       "      <td>silver</td>\n",
       "      <td>square</td>\n",
       "      <td>C</td>\n",
       "    </tr>\n",
       "  </tbody>\n",
       "</table>\n",
       "</div>"
      ],
      "text/plain": [
       "     color    form letter\n",
       "0     blue  square      E\n",
       "6    green  square      A\n",
       "9   silver  square      C\n",
       "12   green  square      A\n",
       "16    blue  square      E\n",
       "19  purple  square      C\n",
       "20  silver  square      C"
      ]
     },
     "metadata": {},
     "output_type": "display_data"
    },
    {
     "data": {
      "text/plain": [
       "0     False\n",
       "6     False\n",
       "9     False\n",
       "12    False\n",
       "16    False\n",
       "19    False\n",
       "20    False\n",
       "Name: border, dtype: bool"
      ]
     },
     "metadata": {},
     "output_type": "display_data"
    },
    {
     "data": {
      "text/html": [
       "<div>\n",
       "<table border=\"1\" class=\"dataframe\">\n",
       "  <thead>\n",
       "    <tr style=\"text-align: right;\">\n",
       "      <th></th>\n",
       "      <th>color</th>\n",
       "      <th>form</th>\n",
       "      <th>letter</th>\n",
       "    </tr>\n",
       "  </thead>\n",
       "  <tbody>\n",
       "    <tr>\n",
       "      <th>1</th>\n",
       "      <td>red</td>\n",
       "      <td>circle</td>\n",
       "      <td>A</td>\n",
       "    </tr>\n",
       "    <tr>\n",
       "      <th>2</th>\n",
       "      <td>green</td>\n",
       "      <td>circle</td>\n",
       "      <td>B</td>\n",
       "    </tr>\n",
       "    <tr>\n",
       "      <th>10</th>\n",
       "      <td>green</td>\n",
       "      <td>circle</td>\n",
       "      <td>B</td>\n",
       "    </tr>\n",
       "    <tr>\n",
       "      <th>11</th>\n",
       "      <td>red</td>\n",
       "      <td>circle</td>\n",
       "      <td>A</td>\n",
       "    </tr>\n",
       "    <tr>\n",
       "      <th>13</th>\n",
       "      <td>green</td>\n",
       "      <td>circle</td>\n",
       "      <td>D</td>\n",
       "    </tr>\n",
       "    <tr>\n",
       "      <th>15</th>\n",
       "      <td>blue</td>\n",
       "      <td>circle</td>\n",
       "      <td>B</td>\n",
       "    </tr>\n",
       "  </tbody>\n",
       "</table>\n",
       "</div>"
      ],
      "text/plain": [
       "    color    form letter\n",
       "1     red  circle      A\n",
       "2   green  circle      B\n",
       "10  green  circle      B\n",
       "11    red  circle      A\n",
       "13  green  circle      D\n",
       "15   blue  circle      B"
      ]
     },
     "metadata": {},
     "output_type": "display_data"
    },
    {
     "data": {
      "text/plain": [
       "1      True\n",
       "2     False\n",
       "10    False\n",
       "11     True\n",
       "13     True\n",
       "15     True\n",
       "Name: border, dtype: bool"
      ]
     },
     "metadata": {},
     "output_type": "display_data"
    },
    {
     "data": {
      "text/html": [
       "<div>\n",
       "<table border=\"1\" class=\"dataframe\">\n",
       "  <thead>\n",
       "    <tr style=\"text-align: right;\">\n",
       "      <th></th>\n",
       "      <th>color</th>\n",
       "      <th>form</th>\n",
       "      <th>letter</th>\n",
       "    </tr>\n",
       "  </thead>\n",
       "  <tbody>\n",
       "    <tr>\n",
       "      <th>3</th>\n",
       "      <td>red</td>\n",
       "      <td>diamond</td>\n",
       "      <td>E</td>\n",
       "    </tr>\n",
       "    <tr>\n",
       "      <th>4</th>\n",
       "      <td>red</td>\n",
       "      <td>diamond</td>\n",
       "      <td>E</td>\n",
       "    </tr>\n",
       "    <tr>\n",
       "      <th>5</th>\n",
       "      <td>blue</td>\n",
       "      <td>diamond</td>\n",
       "      <td>C</td>\n",
       "    </tr>\n",
       "    <tr>\n",
       "      <th>7</th>\n",
       "      <td>green</td>\n",
       "      <td>diamond</td>\n",
       "      <td>D</td>\n",
       "    </tr>\n",
       "    <tr>\n",
       "      <th>17</th>\n",
       "      <td>red</td>\n",
       "      <td>diamond</td>\n",
       "      <td>E</td>\n",
       "    </tr>\n",
       "  </tbody>\n",
       "</table>\n",
       "</div>"
      ],
      "text/plain": [
       "    color     form letter\n",
       "3     red  diamond      E\n",
       "4     red  diamond      E\n",
       "5    blue  diamond      C\n",
       "7   green  diamond      D\n",
       "17    red  diamond      E"
      ]
     },
     "metadata": {},
     "output_type": "display_data"
    },
    {
     "data": {
      "text/plain": [
       "3      True\n",
       "4      True\n",
       "5     False\n",
       "7      True\n",
       "17     True\n",
       "Name: border, dtype: bool"
      ]
     },
     "metadata": {},
     "output_type": "display_data"
    },
    {
     "data": {
      "text/html": [
       "<div>\n",
       "<table border=\"1\" class=\"dataframe\">\n",
       "  <thead>\n",
       "    <tr style=\"text-align: right;\">\n",
       "      <th></th>\n",
       "      <th>color</th>\n",
       "      <th>form</th>\n",
       "      <th>letter</th>\n",
       "    </tr>\n",
       "  </thead>\n",
       "  <tbody>\n",
       "    <tr>\n",
       "      <th>8</th>\n",
       "      <td>silver</td>\n",
       "      <td>star</td>\n",
       "      <td>C</td>\n",
       "    </tr>\n",
       "    <tr>\n",
       "      <th>14</th>\n",
       "      <td>blue</td>\n",
       "      <td>star</td>\n",
       "      <td>B</td>\n",
       "    </tr>\n",
       "    <tr>\n",
       "      <th>18</th>\n",
       "      <td>blue</td>\n",
       "      <td>star</td>\n",
       "      <td>B</td>\n",
       "    </tr>\n",
       "  </tbody>\n",
       "</table>\n",
       "</div>"
      ],
      "text/plain": [
       "     color  form letter\n",
       "8   silver  star      C\n",
       "14    blue  star      B\n",
       "18    blue  star      B"
      ]
     },
     "metadata": {},
     "output_type": "display_data"
    },
    {
     "data": {
      "text/plain": [
       "8     True\n",
       "14    True\n",
       "18    True\n",
       "Name: border, dtype: bool"
      ]
     },
     "metadata": {},
     "output_type": "display_data"
    }
   ],
   "source": [
    "features_square_df = features[features.form == 'square']\n",
    "features_circle_df = features[features.form == 'circle']\n",
    "features_diamond_df = features[features.form == 'diamond']\n",
    "features_star_df = features[features.form == 'star']\n",
    "target_square_df = target[features.form == 'square']\n",
    "target_circle_df = target[features.form == 'circle']\n",
    "target_diamond_df = target[features.form == 'diamond']\n",
    "target_star_df = target[features.form == 'star']\n",
    "\n",
    "display(features_square_df)\n",
    "display(target_square_df)\n",
    "display(features_circle_df)\n",
    "display(target_circle_df)\n",
    "display(features_diamond_df)\n",
    "display(target_diamond_df)\n",
    "display(features_star_df)\n",
    "display(target_star_df)"
   ]
  },
  {
   "cell_type": "markdown",
   "metadata": {},
   "source": [
    "To assess this split, we will be seeking the entropy associated with each subset as a proportion of the total set.\n",
    "\n",
    "$$H_T = q_{\\text{square}}H(S_{\\text{square}}) + \n",
    "        q_{\\text{circle}}H(S_{\\text{circle}}) + \n",
    "        q_{\\text{diamond}}H(S_{\\text{diamond}}) + \n",
    "        q_{\\text{star}}H(S_{\\text{star}})\n",
    "$$\n",
    "\n",
    "Here each $q_i$ represents the **weight**, the proportion of the total each subset is\n",
    "\n",
    "$$q_i = \\frac{\\text{count}(S_i)}{\\text{count}(S_T)}$$"
   ]
  },
  {
   "cell_type": "code",
   "execution_count": 44,
   "metadata": {},
   "outputs": [],
   "source": [
    "q_square = features_square_df.form.count()/features.form.count()\n",
    "q_circle = features_circle_df.form.count()/features.form.count()\n",
    "q_diamond = features_diamond_df.form.count()/features.form.count()\n",
    "q_star = features_star_df.form.count()/features.form.count()"
   ]
  },
  {
   "cell_type": "code",
   "execution_count": 56,
   "metadata": {},
   "outputs": [
    {
     "data": {
      "text/plain": [
       "(0.33333333333333331,\n",
       " 0.2857142857142857,\n",
       " 0.23809523809523808,\n",
       " 0.14285714285714285,\n",
       " 1.0)"
      ]
     },
     "execution_count": 56,
     "metadata": {},
     "output_type": "execute_result"
    }
   ],
   "source": [
    "q_square,q_circle,q_diamond,q_star, sum([q_square,q_circle,q_diamond,q_star])"
   ]
  },
  {
   "cell_type": "markdown",
   "metadata": {},
   "source": [
    "### Total Entropy When Split by Form"
   ]
  },
  {
   "cell_type": "markdown",
   "metadata": {},
   "source": [
    "##### Calculate the weights of each class of our target"
   ]
  },
  {
   "cell_type": "code",
   "execution_count": 45,
   "metadata": {},
   "outputs": [],
   "source": [
    "square_prop = class_proportions(target_square_df)\n",
    "circle_prop = class_proportions(target_circle_df)\n",
    "diamond_prop = class_proportions(target_diamond_df)\n",
    "star_prop = class_proportions(target_star_df)"
   ]
  },
  {
   "cell_type": "code",
   "execution_count": 65,
   "metadata": {},
   "outputs": [
    {
     "data": {
      "text/plain": [
       "(False    1.0\n",
       " Name: border, dtype: float64, True    1.0\n",
       " Name: border, dtype: float64)"
      ]
     },
     "execution_count": 65,
     "metadata": {},
     "output_type": "execute_result"
    }
   ],
   "source": [
    "square_prop, star_prop"
   ]
  },
  {
   "cell_type": "markdown",
   "metadata": {},
   "source": [
    "##### Find the entropy for these proportions"
   ]
  },
  {
   "cell_type": "code",
   "execution_count": 51,
   "metadata": {},
   "outputs": [],
   "source": [
    "H_square_border = entropy(square_prop)\n",
    "H_circle_border = entropy(circle_prop)\n",
    "H_diamond_border = entropy(diamond_prop)\n",
    "H_star_border = entropy(star_prop)"
   ]
  },
  {
   "cell_type": "code",
   "execution_count": 53,
   "metadata": {},
   "outputs": [
    {
     "data": {
      "text/plain": [
       "(0.0, 0.91829583405448956, 0.72192809488736231, 0.0)"
      ]
     },
     "execution_count": 53,
     "metadata": {},
     "output_type": "execute_result"
    }
   ],
   "source": [
    "H_square_border,H_circle_border,H_diamond_border,H_star_border"
   ]
  },
  {
   "cell_type": "code",
   "execution_count": null,
   "metadata": {},
   "outputs": [],
   "source": [
    "q_s"
   ]
  },
  {
   "cell_type": "markdown",
   "metadata": {},
   "source": [
    "##### Sum the weighted Entropy"
   ]
  },
  {
   "cell_type": "code",
   "execution_count": 57,
   "metadata": {},
   "outputs": [
    {
     "data": {
      "text/plain": [
       "0.43425787994113085"
      ]
     },
     "execution_count": 57,
     "metadata": {},
     "output_type": "execute_result"
    }
   ],
   "source": [
    "q_square*H_square_border + \\\n",
    "    q_circle*H_circle_border + \\\n",
    "    q_diamond*H_diamond_border + \\\n",
    "    q_star*H_star_border"
   ]
  },
  {
   "cell_type": "markdown",
   "metadata": {},
   "source": [
    "### Write a function to do this for a split on any feature"
   ]
  },
  {
   "cell_type": "code",
   "execution_count": 68,
   "metadata": {},
   "outputs": [],
   "source": [
    "def entropy_on_split(dataframe, target, feature, debug=False):\n",
    "    \n",
    "    # split on feature\n",
    "    unique_classes = dataframe[feature].unique()\n",
    "    target_subsets = [\n",
    "        target[dataframe[feature] == unique_class]\n",
    "        for unique_class in unique_classes\n",
    "    ]\n",
    "    \n",
    "    if debug: display(target_subsets)\n",
    "    \n",
    "    # calculate subset weights\n",
    "    \n",
    "    total = target.count()\n",
    "    weights = [\n",
    "        target_subset.count()/total \n",
    "        for target_subset in target_subsets\n",
    "    ]\n",
    "    \n",
    "    if debug: display(weights)\n",
    "    \n",
    "    # calculate target proprotions\n",
    "    proportions = [\n",
    "        class_proportions(target_subset)\n",
    "        for target_subset in target_subsets\n",
    "    ]\n",
    "    \n",
    "    if debug: display(proportions)\n",
    "    \n",
    "    # calculate the entropies\n",
    "    entropies = [\n",
    "        entropy(proportion)\n",
    "        for proportion in proportions\n",
    "    ]\n",
    "\n",
    "    if debug: display(entropies)\n",
    "        \n",
    "    weighted_entropies = [\n",
    "        weight*entropy \n",
    "        for weight, entropy in zip(weights, entropies)\n",
    "    ]\n",
    "\n",
    "    if debug: display(weighted_entropies)    \n",
    "\n",
    "    return sum(weighted_entropies)"
   ]
  },
  {
   "cell_type": "markdown",
   "metadata": {},
   "source": [
    "Manually calculated entropy on 'form' split:\n",
    "\n",
    "    0.43425787994113085"
   ]
  },
  {
   "cell_type": "code",
   "execution_count": 70,
   "metadata": {},
   "outputs": [
    {
     "data": {
      "text/plain": [
       "0.43425787994113085"
      ]
     },
     "execution_count": 70,
     "metadata": {},
     "output_type": "execute_result"
    }
   ],
   "source": [
    "entropy_on_split(features, target, 'form')"
   ]
  },
  {
   "cell_type": "code",
   "execution_count": 71,
   "metadata": {},
   "outputs": [
    {
     "data": {
      "text/plain": [
       "0.67926964316620975"
      ]
     },
     "execution_count": 71,
     "metadata": {},
     "output_type": "execute_result"
    }
   ],
   "source": [
    "entropy_on_split(features, target, 'color')"
   ]
  },
  {
   "cell_type": "code",
   "execution_count": 72,
   "metadata": {},
   "outputs": [
    {
     "data": {
      "text/plain": [
       "0.82472125804683316"
      ]
     },
     "execution_count": 72,
     "metadata": {},
     "output_type": "execute_result"
    }
   ],
   "source": [
    "entropy_on_split(features, target, 'letter')"
   ]
  },
  {
   "cell_type": "markdown",
   "metadata": {},
   "source": [
    "### Write a function to Identify the Best Split"
   ]
  },
  {
   "cell_type": "code",
   "execution_count": 75,
   "metadata": {},
   "outputs": [],
   "source": [
    "def find_best_split(features, target):\n",
    "    feature_labels = features.columns\n",
    "    \n",
    "    entropies = [\n",
    "        entropy_on_split(features, target, feature_label)\n",
    "        for feature_label in feature_labels\n",
    "    ]\n",
    "    \n",
    "    best_index = np.argmin(entropies)\n",
    "    return feature_labels[best_index]"
   ]
  },
  {
   "cell_type": "code",
   "execution_count": 76,
   "metadata": {},
   "outputs": [
    {
     "data": {
      "text/plain": [
       "'form'"
      ]
     },
     "execution_count": 76,
     "metadata": {},
     "output_type": "execute_result"
    }
   ],
   "source": [
    "find_best_split(features, target)"
   ]
  },
  {
   "cell_type": "markdown",
   "metadata": {},
   "source": [
    "## Representing the Tree"
   ]
  },
  {
   "cell_type": "markdown",
   "metadata": {},
   "source": [
    "The ability to find a best split will only work at a single node. In order to build a complete machine learning model, we are going to need to use this method to build an entire decision tree.\n",
    "\n",
    "We have this so far:\n",
    "\n",
    "<img src=\"https://www.evernote.com/l/AAFzXwQ0IPVAcYpRMWQuaQCf0NvtOC4mz0sB/image.png\" width=400px>\n",
    "\n",
    "But what about the rest of the tree? We want to split like this:\n",
    "\n",
    "<img src=\"https://www.evernote.com/l/AAHMTpccFvtOjYGojh7sZ97oDC6-bRNAPe4B/image.png\" width=400px>\n",
    "\n",
    "<img src=\"https://www.evernote.com/l/AAGE0WSC6F5AzLCUX-A3cwXrQULf_uFRyFYB/image.png\" width=400px>"
   ]
  },
  {
   "cell_type": "markdown",
   "metadata": {},
   "source": [
    "In order to represent this using Python, we will define a `tree` to be one of these:\n",
    "\n",
    "- `True`\n",
    "- `False`\n",
    "- a tuple `(attribute, subtree_dict)`"
   ]
  },
  {
   "cell_type": "markdown",
   "metadata": {},
   "source": [
    "For example, consider the tree representing green circles containing the letter 'B'.\n",
    "\n",
    "We can represent this trivially as:"
   ]
  },
  {
   "cell_type": "code",
   "execution_count": 77,
   "metadata": {},
   "outputs": [],
   "source": [
    "green_circle_B_tree = False"
   ]
  },
  {
   "cell_type": "markdown",
   "metadata": {},
   "source": [
    "or the tree representing green circles containing the letter 'D':"
   ]
  },
  {
   "cell_type": "code",
   "execution_count": 78,
   "metadata": {},
   "outputs": [],
   "source": [
    "green_circle_D_tree = True"
   ]
  },
  {
   "cell_type": "markdown",
   "metadata": {},
   "source": [
    "From there, consider the tree representing green circles:"
   ]
  },
  {
   "cell_type": "markdown",
   "metadata": {},
   "source": [
    "<img src=\"https://www.evernote.com/l/AAEbErEwS7hETI2gNXzkaetSXntpxeGKjSoB/image.png\" width=200px>"
   ]
  },
  {
   "cell_type": "code",
   "execution_count": null,
   "metadata": {},
   "outputs": [],
   "source": [
    "green_circle_tree = ('letter', {'B' : False, 'D' : True})"
   ]
  },
  {
   "cell_type": "markdown",
   "metadata": {},
   "source": [
    "We might gradually work our way up from there and represent our entire tree as"
   ]
  },
  {
   "cell_type": "code",
   "execution_count": 79,
   "metadata": {},
   "outputs": [],
   "source": [
    "tree = ('form', {'square': False,\n",
    "                 'circle': \n",
    "                           ('color', {'green': \n",
    "                                               ('letter', {'B' : False, \n",
    "                                                           'D' : True}),\n",
    "                                      'red': True,\n",
    "                                      'blue': True}),\n",
    "                 'diamond': \n",
    "                            ('letter', {'C': False,\n",
    "                                        'D': True,\n",
    "                                        'E': True}),\n",
    "                 'star': True})"
   ]
  },
  {
   "cell_type": "markdown",
   "metadata": {},
   "source": [
    "### Use a tree to classifiy an input"
   ]
  },
  {
   "cell_type": "markdown",
   "metadata": {},
   "source": [
    "Suppose we had a new element and we wish to no whether or not is has a border. For example, we may be given the following element:\n",
    "\n",
    "    {'form': 'circle', 'letter': 'C', 'color': 'red'}"
   ]
  },
  {
   "cell_type": "markdown",
   "metadata": {},
   "source": [
    "We are going to need to build a classification function to use our tree to classify this input."
   ]
  },
  {
   "cell_type": "markdown",
   "metadata": {},
   "source": [
    "### Recursion\n",
    "\n",
    "A recursive function is a function that calls itself.\n",
    "\n",
    "$$F_0 = 0$$\n",
    "$$F_1 = 1$$\n",
    "$$F_2 = 1$$\n",
    "$$F_3 = 2$$\n",
    "$$F_4 = 3$$\n",
    "$$F_5 = 5$$\n",
    "$$F_6 = 8$$\n",
    "$$F_7 = 13$$"
   ]
  },
  {
   "cell_type": "code",
   "execution_count": 83,
   "metadata": {},
   "outputs": [],
   "source": [
    "def fib(n):\n",
    "    if n in [0,1]:\n",
    "        return n\n",
    "        \n",
    "    return fib(n-2) + fib(n-1)"
   ]
  },
  {
   "cell_type": "code",
   "execution_count": 84,
   "metadata": {},
   "outputs": [
    {
     "data": {
      "text/plain": [
       "(8, 13)"
      ]
     },
     "execution_count": 84,
     "metadata": {},
     "output_type": "execute_result"
    }
   ],
   "source": [
    "fib(6), fib(7)"
   ]
  },
  {
   "cell_type": "markdown",
   "metadata": {},
   "source": [
    "### Recursively Traverse the Tree to find the class"
   ]
  },
  {
   "cell_type": "code",
   "execution_count": 85,
   "metadata": {},
   "outputs": [],
   "source": [
    "def classify(tree, element):\n",
    "    \n",
    "    # recursion end case\n",
    "    if tree in [True, False]:\n",
    "        return tree\n",
    "    \n",
    "    # if tuple defining a subtree dictionary\n",
    "    # attribute defines the split\n",
    "    # subtree dictionary defines the subtrees created by that split\n",
    "    attribute, subtree_dictionary = tree\n",
    "    \n",
    "    # get the attribute from the element associated with that split\n",
    "    subtree_key = element.get(attribute)\n",
    "    \n",
    "    # get the subtree associated with key\n",
    "    subtree = subtree_dictionary[subtree_key]\n",
    "    \n",
    "    return classify(subtree, element)"
   ]
  },
  {
   "cell_type": "markdown",
   "metadata": {},
   "source": [
    "If we don't get `True` or `False` we will get a tuple representing a subtree dictionary:\n",
    "\n",
    "    ('letter', {'B' : False, 'D' : True})"
   ]
  },
  {
   "cell_type": "code",
   "execution_count": 86,
   "metadata": {},
   "outputs": [
    {
     "data": {
      "text/plain": [
       "True"
      ]
     },
     "execution_count": 86,
     "metadata": {},
     "output_type": "execute_result"
    }
   ],
   "source": [
    "this_element = {'form': 'circle', 'letter': 'C', 'color': 'red'}\n",
    "classify(tree, this_element)"
   ]
  },
  {
   "cell_type": "markdown",
   "metadata": {},
   "source": [
    "But what if we pass an element that is ambiguous, for example\n",
    "\n",
    "    {'form': 'circle', 'letter': 'C', 'color': 'green'}"
   ]
  },
  {
   "cell_type": "code",
   "execution_count": 87,
   "metadata": {},
   "outputs": [
    {
     "ename": "KeyError",
     "evalue": "'C'",
     "output_type": "error",
     "traceback": [
      "\u001b[0;31m---------------------------------------------------------------------------\u001b[0m",
      "\u001b[0;31mKeyError\u001b[0m                                  Traceback (most recent call last)",
      "\u001b[0;32m<ipython-input-87-f59e5e261952>\u001b[0m in \u001b[0;36m<module>\u001b[0;34m()\u001b[0m\n\u001b[1;32m      1\u001b[0m \u001b[0mother_element\u001b[0m \u001b[0;34m=\u001b[0m \u001b[0;34m{\u001b[0m\u001b[0;34m'form'\u001b[0m\u001b[0;34m:\u001b[0m \u001b[0;34m'circle'\u001b[0m\u001b[0;34m,\u001b[0m \u001b[0;34m'letter'\u001b[0m\u001b[0;34m:\u001b[0m \u001b[0;34m'C'\u001b[0m\u001b[0;34m,\u001b[0m \u001b[0;34m'color'\u001b[0m\u001b[0;34m:\u001b[0m \u001b[0;34m'green'\u001b[0m\u001b[0;34m}\u001b[0m\u001b[0;34m\u001b[0m\u001b[0m\n\u001b[0;32m----> 2\u001b[0;31m \u001b[0mclassify\u001b[0m\u001b[0;34m(\u001b[0m\u001b[0mtree\u001b[0m\u001b[0;34m,\u001b[0m \u001b[0mother_element\u001b[0m\u001b[0;34m)\u001b[0m\u001b[0;34m\u001b[0m\u001b[0m\n\u001b[0m",
      "\u001b[0;32m<ipython-input-85-fb223e11b59a>\u001b[0m in \u001b[0;36mclassify\u001b[0;34m(tree, element)\u001b[0m\n\u001b[1;32m     16\u001b[0m     \u001b[0msubtree\u001b[0m \u001b[0;34m=\u001b[0m \u001b[0msubtree_dictionary\u001b[0m\u001b[0;34m[\u001b[0m\u001b[0msubtree_key\u001b[0m\u001b[0;34m]\u001b[0m\u001b[0;34m\u001b[0m\u001b[0m\n\u001b[1;32m     17\u001b[0m \u001b[0;34m\u001b[0m\u001b[0m\n\u001b[0;32m---> 18\u001b[0;31m     \u001b[0;32mreturn\u001b[0m \u001b[0mclassify\u001b[0m\u001b[0;34m(\u001b[0m\u001b[0msubtree\u001b[0m\u001b[0;34m,\u001b[0m \u001b[0melement\u001b[0m\u001b[0;34m)\u001b[0m\u001b[0;34m\u001b[0m\u001b[0m\n\u001b[0m",
      "\u001b[0;32m<ipython-input-85-fb223e11b59a>\u001b[0m in \u001b[0;36mclassify\u001b[0;34m(tree, element)\u001b[0m\n\u001b[1;32m     16\u001b[0m     \u001b[0msubtree\u001b[0m \u001b[0;34m=\u001b[0m \u001b[0msubtree_dictionary\u001b[0m\u001b[0;34m[\u001b[0m\u001b[0msubtree_key\u001b[0m\u001b[0;34m]\u001b[0m\u001b[0;34m\u001b[0m\u001b[0m\n\u001b[1;32m     17\u001b[0m \u001b[0;34m\u001b[0m\u001b[0m\n\u001b[0;32m---> 18\u001b[0;31m     \u001b[0;32mreturn\u001b[0m \u001b[0mclassify\u001b[0m\u001b[0;34m(\u001b[0m\u001b[0msubtree\u001b[0m\u001b[0;34m,\u001b[0m \u001b[0melement\u001b[0m\u001b[0;34m)\u001b[0m\u001b[0;34m\u001b[0m\u001b[0m\n\u001b[0m",
      "\u001b[0;32m<ipython-input-85-fb223e11b59a>\u001b[0m in \u001b[0;36mclassify\u001b[0;34m(tree, element)\u001b[0m\n\u001b[1;32m     14\u001b[0m \u001b[0;34m\u001b[0m\u001b[0m\n\u001b[1;32m     15\u001b[0m     \u001b[0;31m# get the subtree associated with key\u001b[0m\u001b[0;34m\u001b[0m\u001b[0;34m\u001b[0m\u001b[0m\n\u001b[0;32m---> 16\u001b[0;31m     \u001b[0msubtree\u001b[0m \u001b[0;34m=\u001b[0m \u001b[0msubtree_dictionary\u001b[0m\u001b[0;34m[\u001b[0m\u001b[0msubtree_key\u001b[0m\u001b[0;34m]\u001b[0m\u001b[0;34m\u001b[0m\u001b[0m\n\u001b[0m\u001b[1;32m     17\u001b[0m \u001b[0;34m\u001b[0m\u001b[0m\n\u001b[1;32m     18\u001b[0m     \u001b[0;32mreturn\u001b[0m \u001b[0mclassify\u001b[0m\u001b[0;34m(\u001b[0m\u001b[0msubtree\u001b[0m\u001b[0;34m,\u001b[0m \u001b[0melement\u001b[0m\u001b[0;34m)\u001b[0m\u001b[0;34m\u001b[0m\u001b[0m\n",
      "\u001b[0;31mKeyError\u001b[0m: 'C'"
     ]
    }
   ],
   "source": [
    "other_element = {'form': 'circle', 'letter': 'C', 'color': 'green'}\n",
    "classify(tree, other_element)"
   ]
  },
  {
   "cell_type": "markdown",
   "metadata": {},
   "source": [
    "### To Handle this, we will redefine our Tree\n",
    "\n",
    "We will add a `None` key that returns the most common class."
   ]
  },
  {
   "cell_type": "code",
   "execution_count": 88,
   "metadata": {},
   "outputs": [],
   "source": [
    "tree = ('form', {'square': False,\n",
    "                 'circle': \n",
    "                           ('color', {'green': \n",
    "                                               ('letter', {'B' : False, \n",
    "                                                           'D' : True,\n",
    "                                                           None: False}),\n",
    "                                      'red': True,\n",
    "                                      'blue': True,\n",
    "                                      None : True}),\n",
    "                 'diamond': \n",
    "                            ('letter', {'C': False,\n",
    "                                        'D': True,\n",
    "                                        'E': True,\n",
    "                                        None: True}),\n",
    "                 'star': True,\n",
    "                 None: True})"
   ]
  },
  {
   "cell_type": "code",
   "execution_count": 89,
   "metadata": {},
   "outputs": [],
   "source": [
    "def classify(tree, element):\n",
    "    \n",
    "    # recursion end case\n",
    "    if tree in [True, False]:\n",
    "        return tree\n",
    "    \n",
    "    # if tuple defining a subtree dictionary\n",
    "    # attribute defines the split\n",
    "    # subtree dictionary defines the subtrees created by that split\n",
    "    attribute, subtree_dictionary = tree\n",
    "    \n",
    "    # get the attribute from the element associated with that split\n",
    "    subtree_key = element.get(attribute)\n",
    "    \n",
    "    if subtree_key not in subtree_dictionary:\n",
    "        subtree_key = None\n",
    "    \n",
    "    # get the subtree associated with key\n",
    "    subtree = subtree_dictionary[subtree_key]\n",
    "    \n",
    "    return classify(subtree, element)"
   ]
  },
  {
   "cell_type": "code",
   "execution_count": 90,
   "metadata": {},
   "outputs": [
    {
     "data": {
      "text/plain": [
       "False"
      ]
     },
     "execution_count": 90,
     "metadata": {},
     "output_type": "execute_result"
    }
   ],
   "source": [
    "classify(tree, {'form': 'circle', 'letter': 'C', 'color': 'green'})"
   ]
  },
  {
   "cell_type": "code",
   "execution_count": 91,
   "metadata": {},
   "outputs": [
    {
     "data": {
      "text/plain": [
       "True"
      ]
     },
     "execution_count": 91,
     "metadata": {},
     "output_type": "execute_result"
    }
   ],
   "source": [
    "classify(tree, {'form': 'octagon', 'letter': 'Z', 'color': 'chartreuse'})"
   ]
  },
  {
   "cell_type": "markdown",
   "metadata": {},
   "source": [
    "## Build The Tree"
   ]
  },
  {
   "cell_type": "code",
   "execution_count": 92,
   "metadata": {},
   "outputs": [],
   "source": [
    "def find_best_split(features, target, split_candidates):\n",
    "    entropies = [\n",
    "        entropy_on_split(features, target, split_candidate)\n",
    "        for split_candidate in split_candidates\n",
    "    ]\n",
    "    \n",
    "    best_index = np.argmin(entropies)\n",
    "    return split_candidates[best_index]"
   ]
  },
  {
   "cell_type": "code",
   "execution_count": 98,
   "metadata": {},
   "outputs": [],
   "source": [
    "def build_tree(features, target, split_candidates=None):\n",
    "    # handle the case for split_candidates is None\n",
    "    if split_candidates is None:\n",
    "        split_candidates = list(features.columns)\n",
    "        \n",
    "    total_count = target.count()\n",
    "    true_count = target.sum()\n",
    "    false_count = total_count - true_count\n",
    "    \n",
    "    if false_count == 0: return True\n",
    "    if true_count == 0: return False\n",
    "    \n",
    "    if split_candidates == []:\n",
    "        return true_count > false_count\n",
    "    \n",
    "    # find the best attribute to split upon\n",
    "    best_attribute = find_best_split(features, target, split_candidates)\n",
    "    \n",
    "    # remove best attribute from list of split candidates\n",
    "    split_candidates = [split_candidate\n",
    "                        for split_candidate in split_candidates\n",
    "                        if split_candidate is not best_attribute]\n",
    "    \n",
    "    best_attribute_uniques = features[best_attribute].unique()\n",
    "    \n",
    "    subtree_dictionary = dict()\n",
    "    \n",
    "    for best_attribute_unique in best_attribute_uniques:\n",
    "        feat_subset_mask = features[best_attribute] == best_attribute_unique\n",
    "        feat_subset = features[feat_subset_mask]\n",
    "        target_subset = target[feat_subset_mask]\n",
    "        \n",
    "        subtree_dictionary[best_attribute_unique] = \\\n",
    "            build_tree(feat_subset, target_subset, split_candidates)\n",
    "\n",
    "    subtree_dictionary[None] = true_count > false_count\n",
    "            \n",
    "    return (best_attribute, subtree_dictionary)"
   ]
  },
  {
   "cell_type": "code",
   "execution_count": 106,
   "metadata": {},
   "outputs": [
    {
     "data": {
      "text/plain": [
       "('form',\n",
       " {None: True,\n",
       "  'circle': ('color',\n",
       "   {None: True,\n",
       "    'blue': True,\n",
       "    'green': ('letter', {'B': False, 'D': True, None: False}),\n",
       "    'red': True}),\n",
       "  'diamond': ('color',\n",
       "   {None: True, 'blue': False, 'green': True, 'red': True}),\n",
       "  'square': False,\n",
       "  'star': True})"
      ]
     },
     "execution_count": 106,
     "metadata": {},
     "output_type": "execute_result"
    }
   ],
   "source": [
    "build_tree(features, target)"
   ]
  },
  {
   "cell_type": "code",
   "execution_count": 102,
   "metadata": {},
   "outputs": [
    {
     "data": {
      "text/plain": [
       "('form',\n",
       " {None: True,\n",
       "  'circle': ('color',\n",
       "   {None: True,\n",
       "    'blue': True,\n",
       "    'green': ('letter', {'B': False, 'D': True, None: False}),\n",
       "    'red': True}),\n",
       "  'diamond': ('letter', {'C': False, 'D': True, 'E': True, None: True}),\n",
       "  'square': False,\n",
       "  'star': True})"
      ]
     },
     "execution_count": 102,
     "metadata": {},
     "output_type": "execute_result"
    }
   ],
   "source": [
    "tree"
   ]
  },
  {
   "cell_type": "code",
   "execution_count": 107,
   "metadata": {},
   "outputs": [],
   "source": [
    "my_tree = build_tree(features, target)"
   ]
  },
  {
   "cell_type": "code",
   "execution_count": 108,
   "metadata": {
    "scrolled": false
   },
   "outputs": [
    {
     "data": {
      "text/plain": [
       "True"
      ]
     },
     "metadata": {},
     "output_type": "display_data"
    },
    {
     "data": {
      "text/plain": [
       "False"
      ]
     },
     "metadata": {},
     "output_type": "display_data"
    },
    {
     "data": {
      "text/plain": [
       "True"
      ]
     },
     "metadata": {},
     "output_type": "display_data"
    }
   ],
   "source": [
    "display(classify(my_tree, {'form': 'circle', 'letter': 'C', 'color': 'red'}))\n",
    "display(classify(my_tree, {'form': 'circle', 'letter': 'C', 'color': 'green'}))\n",
    "display(classify(my_tree, {'form': 'octagon', 'letter': 'Z', 'color': 'chartreuse'}))"
   ]
  },
  {
   "cell_type": "code",
   "execution_count": null,
   "metadata": {},
   "outputs": [],
   "source": []
  }
 ],
 "metadata": {
  "kernelspec": {
   "display_name": "Python 3",
   "language": "python",
   "name": "python3"
  },
  "language_info": {
   "codemirror_mode": {
    "name": "ipython",
    "version": 3
   },
   "file_extension": ".py",
   "mimetype": "text/x-python",
   "name": "python",
   "nbconvert_exporter": "python",
   "pygments_lexer": "ipython3",
   "version": "3.6.3"
  }
 },
 "nbformat": 4,
 "nbformat_minor": 2
}
