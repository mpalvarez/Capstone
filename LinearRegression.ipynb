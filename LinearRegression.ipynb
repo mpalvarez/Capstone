{
 "cells": [
  {
   "cell_type": "code",
   "execution_count": 1,
   "metadata": {},
   "outputs": [],
   "source": [
    "import numpy as np"
   ]
  },
  {
   "cell_type": "code",
   "execution_count": null,
   "metadata": {},
   "outputs": [],
   "source": [
    "class Lin_Reg():\n",
    "    \n",
    "    def __init__(self, fit_intercept = True):\n",
    "        \n",
    "        self.fit_intercept = fit_intercept\n",
    "    \n",
    "    def fit(self, X, y):\n",
    "        '''\n",
    "        Analytically solve for parameters using Ordinary Least Squares\n",
    "        '''\n",
    "        if self.fit_intercept:\n",
    "            X = np.columns_stack(np.ones(len(X), X))\n",
    "            \n",
    "            self.B = np.linalg.inv(X.T.dot(X)).dot(X.T).dot(y)\n",
    "        \n",
    "    def predict(self, X):\n",
    "        assert self.fitted\n",
    "        \n",
    "        if self.fit_intercept\n",
    "         yhat = self.predict\n",
    "        return yhat\n",
    "\n",
    "# Metrics\n",
    "   \n",
    "    #Distance from data points to our fit regression line\n",
    "    def residuals(self, y_pred, y_actual):\n",
    "        return y_pred - y_actual\n",
    "    \n",
    "    #Mean Absolute Error\n",
    "    def mae(self,y_pred, y_actual):\n",
    "        return abs(self.residuals(y_pred, y_actual)).mean()\n",
    "    \n",
    "    #Residual sum of squares\n",
    "        #we square to penalize large errors more\n",
    "    def rss(self, y_pred, y_actual):\n",
    "        return (self.residuals(y_pred, y_actual)**2).sum()\n",
    "    \n",
    "    #Mean Squared Error\n",
    "        #Also penalizes larger errors more heavily than small errors\n",
    "    def mse(self,y_pred, y_actual):\n",
    "        return (self.residuals(y_pred, y_actual)**2).mean()\n",
    "    \n",
    "    #Root of the MSE to bring value back into the scope of original data\n",
    "    def rmse(self,y_pred, y_actual):\n",
    "        return np.sqrt(self.mse(y_pred, y_actual))\n",
    "\n",
    "    #R^2\n",
    "    def sstot(self,y_actual):\n",
    "        return ((y_actual - y_actual.mean())**2).sum()\n",
    "\n",
    "    def r2(self,y_pred, y_actual):\n",
    "        return 1 - (self.sse(y_pred, y_actual) / self.sstot(y_actual))\n",
    "    "
   ]
  },
  {
   "cell_type": "code",
   "execution_count": null,
   "metadata": {},
   "outputs": [],
   "source": []
  }
 ],
 "metadata": {
  "kernelspec": {
   "display_name": "Python 3",
   "language": "python",
   "name": "python3"
  },
  "language_info": {
   "codemirror_mode": {
    "name": "ipython",
    "version": 3
   },
   "file_extension": ".py",
   "mimetype": "text/x-python",
   "name": "python",
   "nbconvert_exporter": "python",
   "pygments_lexer": "ipython3",
   "version": "3.6.2"
  }
 },
 "nbformat": 4,
 "nbformat_minor": 2
}
