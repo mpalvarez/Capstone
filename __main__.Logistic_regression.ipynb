{
 "cells": [
  {
   "cell_type": "code",
   "execution_count": 272,
   "metadata": {},
   "outputs": [],
   "source": [
    "%run __init__.py\n",
    "import matplotlib.pyplot as plt\n",
    "from sklearn.linear_model import SGDClassifier\n",
    "%matplotlib inline"
   ]
  },
  {
   "cell_type": "code",
   "execution_count": 3,
   "metadata": {},
   "outputs": [],
   "source": [
    "Class_data = pd.read_pickle('./data/Classification_data')"
   ]
  },
  {
   "cell_type": "code",
   "execution_count": 4,
   "metadata": {},
   "outputs": [
    {
     "data": {
      "text/html": [
       "<div>\n",
       "<table border=\"1\" class=\"dataframe\">\n",
       "  <thead>\n",
       "    <tr style=\"text-align: right;\">\n",
       "      <th></th>\n",
       "      <th>0</th>\n",
       "      <th>1</th>\n",
       "      <th>2</th>\n",
       "      <th>3</th>\n",
       "      <th>4</th>\n",
       "      <th>5</th>\n",
       "      <th>6</th>\n",
       "      <th>7</th>\n",
       "      <th>8</th>\n",
       "      <th>9</th>\n",
       "    </tr>\n",
       "  </thead>\n",
       "  <tbody>\n",
       "    <tr>\n",
       "      <th>1</th>\n",
       "      <td>-1.315820</td>\n",
       "      <td>1.316543</td>\n",
       "      <td>0.164066</td>\n",
       "      <td>-0.253837</td>\n",
       "      <td>-0.294866</td>\n",
       "      <td>-1.270752</td>\n",
       "      <td>-0.725395</td>\n",
       "      <td>0.223158</td>\n",
       "      <td>-0.053368</td>\n",
       "      <td>-0.958498</td>\n",
       "    </tr>\n",
       "    <tr>\n",
       "      <th>0</th>\n",
       "      <td>3.483923</td>\n",
       "      <td>-2.057793</td>\n",
       "      <td>-2.309601</td>\n",
       "      <td>-0.614573</td>\n",
       "      <td>2.189763</td>\n",
       "      <td>1.642445</td>\n",
       "      <td>-0.290255</td>\n",
       "      <td>0.233515</td>\n",
       "      <td>0.450576</td>\n",
       "      <td>-0.015899</td>\n",
       "    </tr>\n",
       "    <tr>\n",
       "      <th>1</th>\n",
       "      <td>-1.380088</td>\n",
       "      <td>0.703176</td>\n",
       "      <td>1.061945</td>\n",
       "      <td>-0.721501</td>\n",
       "      <td>0.187267</td>\n",
       "      <td>-0.515582</td>\n",
       "      <td>-0.532107</td>\n",
       "      <td>-0.344521</td>\n",
       "      <td>0.173154</td>\n",
       "      <td>0.118267</td>\n",
       "    </tr>\n",
       "    <tr>\n",
       "      <th>1</th>\n",
       "      <td>-0.764939</td>\n",
       "      <td>-0.317916</td>\n",
       "      <td>1.517854</td>\n",
       "      <td>-1.419710</td>\n",
       "      <td>-0.325702</td>\n",
       "      <td>0.567637</td>\n",
       "      <td>-0.186455</td>\n",
       "      <td>0.102932</td>\n",
       "      <td>1.031200</td>\n",
       "      <td>-0.209478</td>\n",
       "    </tr>\n",
       "    <tr>\n",
       "      <th>1</th>\n",
       "      <td>0.780307</td>\n",
       "      <td>-1.968857</td>\n",
       "      <td>1.462856</td>\n",
       "      <td>-0.667439</td>\n",
       "      <td>0.755069</td>\n",
       "      <td>2.186395</td>\n",
       "      <td>0.140748</td>\n",
       "      <td>-2.351874</td>\n",
       "      <td>0.236725</td>\n",
       "      <td>-1.750291</td>\n",
       "    </tr>\n",
       "  </tbody>\n",
       "</table>\n",
       "</div>"
      ],
      "text/plain": [
       "          0         1         2         3         4         5         6  \\\n",
       "1 -1.315820  1.316543  0.164066 -0.253837 -0.294866 -1.270752 -0.725395   \n",
       "0  3.483923 -2.057793 -2.309601 -0.614573  2.189763  1.642445 -0.290255   \n",
       "1 -1.380088  0.703176  1.061945 -0.721501  0.187267 -0.515582 -0.532107   \n",
       "1 -0.764939 -0.317916  1.517854 -1.419710 -0.325702  0.567637 -0.186455   \n",
       "1  0.780307 -1.968857  1.462856 -0.667439  0.755069  2.186395  0.140748   \n",
       "\n",
       "          7         8         9  \n",
       "1  0.223158 -0.053368 -0.958498  \n",
       "0  0.233515  0.450576 -0.015899  \n",
       "1 -0.344521  0.173154  0.118267  \n",
       "1  0.102932  1.031200 -0.209478  \n",
       "1 -2.351874  0.236725 -1.750291  "
      ]
     },
     "execution_count": 4,
     "metadata": {},
     "output_type": "execute_result"
    }
   ],
   "source": [
    "Class_data.head()"
   ]
  },
  {
   "cell_type": "code",
   "execution_count": 5,
   "metadata": {},
   "outputs": [
    {
     "data": {
      "text/plain": [
       "(500, 10)"
      ]
     },
     "execution_count": 5,
     "metadata": {},
     "output_type": "execute_result"
    }
   ],
   "source": [
    "Class_data.shape"
   ]
  },
  {
   "cell_type": "code",
   "execution_count": 6,
   "metadata": {},
   "outputs": [
    {
     "data": {
      "text/plain": [
       "<matplotlib.collections.PathCollection at 0x7f20cc9f4f98>"
      ]
     },
     "execution_count": 6,
     "metadata": {},
     "output_type": "execute_result"
    },
    {
     "data": {
      "image/png": "[encoded data removed]",
      "text/plain": [
       "<matplotlib.figure.Figure at 0x7f20cca42eb8>"
      ]
     },
     "metadata": {},
     "output_type": "display_data"
    }
   ],
   "source": [
    "plt.figure(figsize=(12,8))\n",
    "plt.scatter(Class_data[0], Class_data[1],)"
   ]
  },
  {
   "cell_type": "markdown",
   "metadata": {},
   "source": [
    "### First Make a function for our sigmoid"
   ]
  },
  {
   "cell_type": "code",
   "execution_count": 320,
   "metadata": {},
   "outputs": [],
   "source": [
    "def sig(a):\n",
    "        b =  a * -1\n",
    "        c = np.exp(b)\n",
    "        d = c +1\n",
    "        e = d**-1\n",
    "        \n",
    "        #backpass\n",
    "        de = 1\n",
    "        dd = (-1/d**2) *de\n",
    "        dc = (1)* dd\n",
    "        db = (np.e**b) * dc\n",
    "        da = -1 * db\n",
    "    \n",
    "    return e, da"
   ]
  },
  {
   "cell_type": "code",
   "execution_count": 321,
   "metadata": {},
   "outputs": [
    {
     "data": {
      "text/plain": [
       "(array([ 0.73105858,  0.88079708,  0.95257413]),\n",
       " array([ 0.19661193,  0.10499359,  0.04517666]))"
      ]
     },
     "execution_count": 321,
     "metadata": {},
     "output_type": "execute_result"
    }
   ],
   "source": [
    "sig(np.array([1,2,3]))"
   ]
  },
  {
   "cell_type": "code",
   "execution_count": 312,
   "metadata": {},
   "outputs": [],
   "source": [
    "def blah(a,b,c):\n",
    "    \n",
    "    e = c**3\n",
    "    f = b * e\n",
    "    d = a**2\n",
    "    g = d - f\n",
    "    \n",
    "    #backpass\n",
    "    dg = 1\n",
    "    df = 1 * dg\n",
    "    dd = (2 * d) *dg\n",
    "    de =  b * df\n",
    "    db = e * df\n",
    "    dc = 3 * e * de\n",
    "    da = (2 * a) * dd\n",
    "    \n",
    "    return g, da, db, dc"
   ]
  },
  {
   "cell_type": "code",
   "execution_count": 306,
   "metadata": {
    "scrolled": true
   },
   "outputs": [
    {
     "data": {
      "text/plain": [
       "(1, 32, 1, 9)"
      ]
     },
     "execution_count": 306,
     "metadata": {},
     "output_type": "execute_result"
    }
   ],
   "source": [
    "l = np.array([2,3,1])\n",
    "blah(2,3,1)"
   ]
  },
  {
   "cell_type": "code",
   "execution_count": null,
   "metadata": {},
   "outputs": [],
   "source": [
    "def gradient_descent(x)\n",
    "    for i in range(len(x)):\n",
    "        g = "
   ]
  },
  {
   "cell_type": "code",
   "execution_count": 266,
   "metadata": {},
   "outputs": [
    {
     "data": {
      "text/plain": [
       "array([[ 0.55044866,  0.05050923,  0.65399697],\n",
       "       [ 0.67628645,  0.0457026 ,  0.77972479]])"
      ]
     },
     "execution_count": 266,
     "metadata": {},
     "output_type": "execute_result"
    }
   ],
   "source": [
    "X = np.array([[0,0], [0,1], [1,0], [1,1], [0,1], [1,1]])\n",
    "Y = np.array([ [0],   [1],   [1],   [0], [1], [0]])\n",
    "gradient_descent(X,Y, epochs = 100)"
   ]
  },
  {
   "cell_type": "markdown",
   "metadata": {},
   "source": [
    "### np.gradient\n"
   ]
  },
  {
   "cell_type": "code",
   "execution_count": 165,
   "metadata": {},
   "outputs": [],
   "source": [
    "def find_gradient(target, weights):\n",
    "    return np.gradient(target,weights)\n",
    "    "
   ]
  },
  {
   "cell_type": "code",
   "execution_count": 166,
   "metadata": {},
   "outputs": [
    {
     "data": {
      "text/plain": [
       "array([ 10, 100,  18])"
      ]
     },
     "execution_count": 166,
     "metadata": {},
     "output_type": "execute_result"
    }
   ],
   "source": [
    "x = np.array([1,2,3])\n",
    "w = np.array([10,50,6])\n",
    "\n",
    "np.diff(x*w, n = 0, axis =0)"
   ]
  },
  {
   "cell_type": "code",
   "execution_count": 167,
   "metadata": {},
   "outputs": [
    {
     "data": {
      "text/plain": [
       "array([ 0.025     ,  0.50227273, -0.02272727])"
      ]
     },
     "execution_count": 167,
     "metadata": {},
     "output_type": "execute_result"
    }
   ],
   "source": [
    "find_gradient( x, w)\n",
    "    "
   ]
  },
  {
   "cell_type": "code",
   "execution_count": 175,
   "metadata": {},
   "outputs": [],
   "source": [
    "g_df = pd.DataFrame(find_gradient(Class_data[0],Class_data[1]))"
   ]
  },
  {
   "cell_type": "code",
   "execution_count": 176,
   "metadata": {},
   "outputs": [
    {
     "data": {
      "text/html": [
       "<div>\n",
       "<table border=\"1\" class=\"dataframe\">\n",
       "  <thead>\n",
       "    <tr style=\"text-align: right;\">\n",
       "      <th></th>\n",
       "      <th>0</th>\n",
       "    </tr>\n",
       "  </thead>\n",
       "  <tbody>\n",
       "    <tr>\n",
       "      <th>0</th>\n",
       "      <td>-1.422426</td>\n",
       "    </tr>\n",
       "    <tr>\n",
       "      <th>1</th>\n",
       "      <td>-3.288911</td>\n",
       "    </tr>\n",
       "    <tr>\n",
       "      <th>2</th>\n",
       "      <td>0.077902</td>\n",
       "    </tr>\n",
       "    <tr>\n",
       "      <th>3</th>\n",
       "      <td>-0.729900</td>\n",
       "    </tr>\n",
       "    <tr>\n",
       "      <th>4</th>\n",
       "      <td>4.597595</td>\n",
       "    </tr>\n",
       "    <tr>\n",
       "      <th>5</th>\n",
       "      <td>10.602435</td>\n",
       "    </tr>\n",
       "    <tr>\n",
       "      <th>6</th>\n",
       "      <td>3.552344</td>\n",
       "    </tr>\n",
       "    <tr>\n",
       "      <th>7</th>\n",
       "      <td>0.043381</td>\n",
       "    </tr>\n",
       "    <tr>\n",
       "      <th>8</th>\n",
       "      <td>3.038374</td>\n",
       "    </tr>\n",
       "    <tr>\n",
       "      <th>9</th>\n",
       "      <td>1.414435</td>\n",
       "    </tr>\n",
       "    <tr>\n",
       "      <th>10</th>\n",
       "      <td>-1.658845</td>\n",
       "    </tr>\n",
       "    <tr>\n",
       "      <th>11</th>\n",
       "      <td>-3.995226</td>\n",
       "    </tr>\n",
       "    <tr>\n",
       "      <th>12</th>\n",
       "      <td>0.037970</td>\n",
       "    </tr>\n",
       "    <tr>\n",
       "      <th>13</th>\n",
       "      <td>-6.379840</td>\n",
       "    </tr>\n",
       "    <tr>\n",
       "      <th>14</th>\n",
       "      <td>-1.248454</td>\n",
       "    </tr>\n",
       "    <tr>\n",
       "      <th>15</th>\n",
       "      <td>0.860915</td>\n",
       "    </tr>\n",
       "    <tr>\n",
       "      <th>16</th>\n",
       "      <td>-3.795272</td>\n",
       "    </tr>\n",
       "    <tr>\n",
       "      <th>17</th>\n",
       "      <td>-1.020196</td>\n",
       "    </tr>\n",
       "    <tr>\n",
       "      <th>18</th>\n",
       "      <td>-0.499809</td>\n",
       "    </tr>\n",
       "    <tr>\n",
       "      <th>19</th>\n",
       "      <td>-0.549401</td>\n",
       "    </tr>\n",
       "    <tr>\n",
       "      <th>20</th>\n",
       "      <td>-1.848021</td>\n",
       "    </tr>\n",
       "    <tr>\n",
       "      <th>21</th>\n",
       "      <td>-1.087821</td>\n",
       "    </tr>\n",
       "    <tr>\n",
       "      <th>22</th>\n",
       "      <td>-7.706736</td>\n",
       "    </tr>\n",
       "    <tr>\n",
       "      <th>23</th>\n",
       "      <td>-2.392352</td>\n",
       "    </tr>\n",
       "    <tr>\n",
       "      <th>24</th>\n",
       "      <td>13.559538</td>\n",
       "    </tr>\n",
       "    <tr>\n",
       "      <th>25</th>\n",
       "      <td>13.744697</td>\n",
       "    </tr>\n",
       "    <tr>\n",
       "      <th>26</th>\n",
       "      <td>-0.313923</td>\n",
       "    </tr>\n",
       "    <tr>\n",
       "      <th>27</th>\n",
       "      <td>0.760423</td>\n",
       "    </tr>\n",
       "    <tr>\n",
       "      <th>28</th>\n",
       "      <td>0.919304</td>\n",
       "    </tr>\n",
       "    <tr>\n",
       "      <th>29</th>\n",
       "      <td>-3.324512</td>\n",
       "    </tr>\n",
       "    <tr>\n",
       "      <th>...</th>\n",
       "      <td>...</td>\n",
       "    </tr>\n",
       "    <tr>\n",
       "      <th>470</th>\n",
       "      <td>7.718470</td>\n",
       "    </tr>\n",
       "    <tr>\n",
       "      <th>471</th>\n",
       "      <td>6.212929</td>\n",
       "    </tr>\n",
       "    <tr>\n",
       "      <th>472</th>\n",
       "      <td>-0.549737</td>\n",
       "    </tr>\n",
       "    <tr>\n",
       "      <th>473</th>\n",
       "      <td>5.833247</td>\n",
       "    </tr>\n",
       "    <tr>\n",
       "      <th>474</th>\n",
       "      <td>9.035993</td>\n",
       "    </tr>\n",
       "    <tr>\n",
       "      <th>475</th>\n",
       "      <td>14.565723</td>\n",
       "    </tr>\n",
       "    <tr>\n",
       "      <th>476</th>\n",
       "      <td>-1.677124</td>\n",
       "    </tr>\n",
       "    <tr>\n",
       "      <th>477</th>\n",
       "      <td>-1.426364</td>\n",
       "    </tr>\n",
       "    <tr>\n",
       "      <th>478</th>\n",
       "      <td>-1.859526</td>\n",
       "    </tr>\n",
       "    <tr>\n",
       "      <th>479</th>\n",
       "      <td>-1.853436</td>\n",
       "    </tr>\n",
       "    <tr>\n",
       "      <th>480</th>\n",
       "      <td>-2.579448</td>\n",
       "    </tr>\n",
       "    <tr>\n",
       "      <th>481</th>\n",
       "      <td>0.320864</td>\n",
       "    </tr>\n",
       "    <tr>\n",
       "      <th>482</th>\n",
       "      <td>-0.096174</td>\n",
       "    </tr>\n",
       "    <tr>\n",
       "      <th>483</th>\n",
       "      <td>-3.465079</td>\n",
       "    </tr>\n",
       "    <tr>\n",
       "      <th>484</th>\n",
       "      <td>2.805968</td>\n",
       "    </tr>\n",
       "    <tr>\n",
       "      <th>485</th>\n",
       "      <td>0.526596</td>\n",
       "    </tr>\n",
       "    <tr>\n",
       "      <th>486</th>\n",
       "      <td>-0.622028</td>\n",
       "    </tr>\n",
       "    <tr>\n",
       "      <th>487</th>\n",
       "      <td>-0.067046</td>\n",
       "    </tr>\n",
       "    <tr>\n",
       "      <th>488</th>\n",
       "      <td>-6.729139</td>\n",
       "    </tr>\n",
       "    <tr>\n",
       "      <th>489</th>\n",
       "      <td>-1.221291</td>\n",
       "    </tr>\n",
       "    <tr>\n",
       "      <th>490</th>\n",
       "      <td>1.218687</td>\n",
       "    </tr>\n",
       "    <tr>\n",
       "      <th>491</th>\n",
       "      <td>-1.784321</td>\n",
       "    </tr>\n",
       "    <tr>\n",
       "      <th>492</th>\n",
       "      <td>-4.727087</td>\n",
       "    </tr>\n",
       "    <tr>\n",
       "      <th>493</th>\n",
       "      <td>-7.817365</td>\n",
       "    </tr>\n",
       "    <tr>\n",
       "      <th>494</th>\n",
       "      <td>-0.677295</td>\n",
       "    </tr>\n",
       "    <tr>\n",
       "      <th>495</th>\n",
       "      <td>-1.748267</td>\n",
       "    </tr>\n",
       "    <tr>\n",
       "      <th>496</th>\n",
       "      <td>-2.314886</td>\n",
       "    </tr>\n",
       "    <tr>\n",
       "      <th>497</th>\n",
       "      <td>-3.155749</td>\n",
       "    </tr>\n",
       "    <tr>\n",
       "      <th>498</th>\n",
       "      <td>-1.477875</td>\n",
       "    </tr>\n",
       "    <tr>\n",
       "      <th>499</th>\n",
       "      <td>-0.723178</td>\n",
       "    </tr>\n",
       "  </tbody>\n",
       "</table>\n",
       "<p>500 rows × 1 columns</p>\n",
       "</div>"
      ],
      "text/plain": [
       "             0\n",
       "0    -1.422426\n",
       "1    -3.288911\n",
       "2     0.077902\n",
       "3    -0.729900\n",
       "4     4.597595\n",
       "5    10.602435\n",
       "6     3.552344\n",
       "7     0.043381\n",
       "8     3.038374\n",
       "9     1.414435\n",
       "10   -1.658845\n",
       "11   -3.995226\n",
       "12    0.037970\n",
       "13   -6.379840\n",
       "14   -1.248454\n",
       "15    0.860915\n",
       "16   -3.795272\n",
       "17   -1.020196\n",
       "18   -0.499809\n",
       "19   -0.549401\n",
       "20   -1.848021\n",
       "21   -1.087821\n",
       "22   -7.706736\n",
       "23   -2.392352\n",
       "24   13.559538\n",
       "25   13.744697\n",
       "26   -0.313923\n",
       "27    0.760423\n",
       "28    0.919304\n",
       "29   -3.324512\n",
       "..         ...\n",
       "470   7.718470\n",
       "471   6.212929\n",
       "472  -0.549737\n",
       "473   5.833247\n",
       "474   9.035993\n",
       "475  14.565723\n",
       "476  -1.677124\n",
       "477  -1.426364\n",
       "478  -1.859526\n",
       "479  -1.853436\n",
       "480  -2.579448\n",
       "481   0.320864\n",
       "482  -0.096174\n",
       "483  -3.465079\n",
       "484   2.805968\n",
       "485   0.526596\n",
       "486  -0.622028\n",
       "487  -0.067046\n",
       "488  -6.729139\n",
       "489  -1.221291\n",
       "490   1.218687\n",
       "491  -1.784321\n",
       "492  -4.727087\n",
       "493  -7.817365\n",
       "494  -0.677295\n",
       "495  -1.748267\n",
       "496  -2.314886\n",
       "497  -3.155749\n",
       "498  -1.477875\n",
       "499  -0.723178\n",
       "\n",
       "[500 rows x 1 columns]"
      ]
     },
     "execution_count": 176,
     "metadata": {},
     "output_type": "execute_result"
    }
   ],
   "source": [
    "g_df"
   ]
  },
  {
   "cell_type": "code",
   "execution_count": null,
   "metadata": {},
   "outputs": [],
   "source": []
  }
 ],
 "metadata": {
  "kernelspec": {
   "display_name": "Python 3",
   "language": "python",
   "name": "python3"
  },
  "language_info": {
   "codemirror_mode": {
    "name": "ipython",
    "version": 3
   },
   "file_extension": ".py",
   "mimetype": "text/x-python",
   "name": "python",
   "nbconvert_exporter": "python",
   "pygments_lexer": "ipython3",
   "version": "3.6.2"
  }
 },
 "nbformat": 4,
 "nbformat_minor": 2
}
